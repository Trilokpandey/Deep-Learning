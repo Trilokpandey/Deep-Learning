{
 "cells": [
  {
   "cell_type": "markdown",
   "metadata": {},
   "source": [
    "## Load libraries"
   ]
  },
  {
   "cell_type": "code",
   "execution_count": 21,
   "metadata": {},
   "outputs": [],
   "source": [
    "import numpy\n",
    "from pandas import read_csv\n",
    "import matplotlib.pyplot as plt\n",
    "import math\n",
    "from keras.models import Sequential\n",
    "from keras.layers import Dense\n",
    "from keras.layers import LSTM\n",
    "from sklearn.preprocessing import MinMaxScaler\n",
    "from sklearn.metrics import mean_squared_error"
   ]
  },
  {
   "cell_type": "markdown",
   "metadata": {},
   "source": [
    "## convert an array of values into a dataset matrix"
   ]
  },
  {
   "cell_type": "code",
   "execution_count": 22,
   "metadata": {},
   "outputs": [],
   "source": [
    "def create_dataset(dataset,look_back=1):\n",
    "    dataX,dataY=[],[]\n",
    "    for i in range(len(dataset)-look_back-1):\n",
    "        a=dataset[i:(look_back+i),0]\n",
    "        dataX.append(a)\n",
    "        dataY.append(dataset[i+look_back,0])\n",
    "    return numpy.array(dataX),numpy.array(dataY)"
   ]
  },
  {
   "cell_type": "markdown",
   "metadata": {},
   "source": [
    "## load the dataset"
   ]
  },
  {
   "cell_type": "code",
   "execution_count": 23,
   "metadata": {},
   "outputs": [],
   "source": [
    "# fix random seed for reproducibility\n",
    "numpy.random.seed(7)\n",
    "# load the dataset\n",
    "dataframe = read_csv(\"Desktop\\\\airline-passengers.csv\", usecols=[1])\n",
    "dataset = dataframe.values\n",
    "dataset = dataset.astype('float32')"
   ]
  },
  {
   "cell_type": "markdown",
   "metadata": {},
   "source": [
    "## normalize the dataset"
   ]
  },
  {
   "cell_type": "code",
   "execution_count": 24,
   "metadata": {},
   "outputs": [],
   "source": [
    "scaler=MinMaxScaler(feature_range=(0,1))\n",
    "dataset=scaler.fit_transform(dataset)"
   ]
  },
  {
   "cell_type": "markdown",
   "metadata": {},
   "source": [
    "## split dataset into train and test datasets"
   ]
  },
  {
   "cell_type": "code",
   "execution_count": 25,
   "metadata": {},
   "outputs": [],
   "source": [
    "train_size=int(len(dataset)*0.67)\n",
    "test_size=len(dataset)-train_size\n",
    "train,test=dataset[0:train_size,:],dataset[train_size:len(dataset),:]"
   ]
  },
  {
   "cell_type": "markdown",
   "metadata": {},
   "source": [
    "## reshape into X=t and Y=t+1"
   ]
  },
  {
   "cell_type": "markdown",
   "metadata": {},
   "source": [
    "When phrased as a regression problem, the input variables are t-2, t-1, t and the output variable is t+1.\n",
    "\n",
    "The create_dataset() function we created in the previous section allows us to create this formulation of the time series problem by increasing the look_back argument from 1 to 3."
   ]
  },
  {
   "cell_type": "code",
   "execution_count": 26,
   "metadata": {},
   "outputs": [],
   "source": [
    "look_back=3\n",
    "trainX,trainY=create_dataset(train,look_back)\n",
    "testX,testY=create_dataset(test,look_back)\n"
   ]
  },
  {
   "cell_type": "markdown",
   "metadata": {},
   "source": [
    "## reshape input to be [samples, time steps, features]"
   ]
  },
  {
   "cell_type": "markdown",
   "metadata": {},
   "source": [
    "We can use the sizes in the shape attribute on the array to specify the number of samples (rows) and fix the number of features at 1 and columns (time steps) ."
   ]
  },
  {
   "cell_type": "code",
   "execution_count": 27,
   "metadata": {},
   "outputs": [],
   "source": [
    "trainX=numpy.reshape(trainX,(trainX.shape[0],1,trainX.shape[1]))\n",
    "testX=numpy.reshape(testX,(testX.shape[0],1,testX.shape[1]))\n"
   ]
  },
  {
   "cell_type": "markdown",
   "metadata": {},
   "source": [
    "## create and fit the LSTM network"
   ]
  },
  {
   "cell_type": "code",
   "execution_count": 28,
   "metadata": {},
   "outputs": [
    {
     "name": "stdout",
     "output_type": "stream",
     "text": [
      "Epoch 1/100\n",
      " - 1s - loss: 0.0185\n",
      "Epoch 2/100\n",
      " - 0s - loss: 0.0099\n",
      "Epoch 3/100\n",
      " - 0s - loss: 0.0087\n",
      "Epoch 4/100\n",
      " - 0s - loss: 0.0081\n",
      "Epoch 5/100\n",
      " - 0s - loss: 0.0075\n",
      "Epoch 6/100\n",
      " - 0s - loss: 0.0069\n",
      "Epoch 7/100\n",
      " - 0s - loss: 0.0064\n",
      "Epoch 8/100\n",
      " - 0s - loss: 0.0061\n",
      "Epoch 9/100\n",
      " - 0s - loss: 0.0057\n",
      "Epoch 10/100\n",
      " - 0s - loss: 0.0054\n",
      "Epoch 11/100\n",
      " - 0s - loss: 0.0053\n",
      "Epoch 12/100\n",
      " - 0s - loss: 0.0050\n",
      "Epoch 13/100\n",
      " - 0s - loss: 0.0049\n",
      "Epoch 14/100\n",
      " - 0s - loss: 0.0047\n",
      "Epoch 15/100\n",
      " - 0s - loss: 0.0047\n",
      "Epoch 16/100\n",
      " - 0s - loss: 0.0047\n",
      "Epoch 17/100\n",
      " - 0s - loss: 0.0046\n",
      "Epoch 18/100\n",
      " - 0s - loss: 0.0045\n",
      "Epoch 19/100\n",
      " - 0s - loss: 0.0045\n",
      "Epoch 20/100\n",
      " - 0s - loss: 0.0044\n",
      "Epoch 21/100\n",
      " - 0s - loss: 0.0044\n",
      "Epoch 22/100\n",
      " - 0s - loss: 0.0043\n",
      "Epoch 23/100\n",
      " - 0s - loss: 0.0043\n",
      "Epoch 24/100\n",
      " - 0s - loss: 0.0043\n",
      "Epoch 25/100\n",
      " - 0s - loss: 0.0042\n",
      "Epoch 26/100\n",
      " - 0s - loss: 0.0042\n",
      "Epoch 27/100\n",
      " - 0s - loss: 0.0044\n",
      "Epoch 28/100\n",
      " - 0s - loss: 0.0042\n",
      "Epoch 29/100\n",
      " - 0s - loss: 0.0041\n",
      "Epoch 30/100\n",
      " - 0s - loss: 0.0042\n",
      "Epoch 31/100\n",
      " - 0s - loss: 0.0042\n",
      "Epoch 32/100\n",
      " - 0s - loss: 0.0041\n",
      "Epoch 33/100\n",
      " - 0s - loss: 0.0041\n",
      "Epoch 34/100\n",
      " - 0s - loss: 0.0041\n",
      "Epoch 35/100\n",
      " - 0s - loss: 0.0041\n",
      "Epoch 36/100\n",
      " - 0s - loss: 0.0040\n",
      "Epoch 37/100\n",
      " - 0s - loss: 0.0040\n",
      "Epoch 38/100\n",
      " - 0s - loss: 0.0040\n",
      "Epoch 39/100\n",
      " - 0s - loss: 0.0040\n",
      "Epoch 40/100\n",
      " - 0s - loss: 0.0039\n",
      "Epoch 41/100\n",
      " - 0s - loss: 0.0040\n",
      "Epoch 42/100\n",
      " - 0s - loss: 0.0039\n",
      "Epoch 43/100\n",
      " - 0s - loss: 0.0039\n",
      "Epoch 44/100\n",
      " - 0s - loss: 0.0040\n",
      "Epoch 45/100\n",
      " - 0s - loss: 0.0040\n",
      "Epoch 46/100\n",
      " - 0s - loss: 0.0038\n",
      "Epoch 47/100\n",
      " - 0s - loss: 0.0038\n",
      "Epoch 48/100\n",
      " - 0s - loss: 0.0039\n",
      "Epoch 49/100\n",
      " - 0s - loss: 0.0039\n",
      "Epoch 50/100\n",
      " - 0s - loss: 0.0038\n",
      "Epoch 51/100\n",
      " - 0s - loss: 0.0038\n",
      "Epoch 52/100\n",
      " - 0s - loss: 0.0038\n",
      "Epoch 53/100\n",
      " - 0s - loss: 0.0038\n",
      "Epoch 54/100\n",
      " - 0s - loss: 0.0038\n",
      "Epoch 55/100\n",
      " - 0s - loss: 0.0038\n",
      "Epoch 56/100\n",
      " - 0s - loss: 0.0037\n",
      "Epoch 57/100\n",
      " - 0s - loss: 0.0037\n",
      "Epoch 58/100\n",
      " - 0s - loss: 0.0037\n",
      "Epoch 59/100\n",
      " - 0s - loss: 0.0037\n",
      "Epoch 60/100\n",
      " - 0s - loss: 0.0036\n",
      "Epoch 61/100\n",
      " - 0s - loss: 0.0037\n",
      "Epoch 62/100\n",
      " - 0s - loss: 0.0037\n",
      "Epoch 63/100\n",
      " - 0s - loss: 0.0036\n",
      "Epoch 64/100\n",
      " - 0s - loss: 0.0036\n",
      "Epoch 65/100\n",
      " - 0s - loss: 0.0035\n",
      "Epoch 66/100\n",
      " - 0s - loss: 0.0035\n",
      "Epoch 67/100\n",
      " - 0s - loss: 0.0035\n",
      "Epoch 68/100\n",
      " - 0s - loss: 0.0037\n",
      "Epoch 69/100\n",
      " - 0s - loss: 0.0035\n",
      "Epoch 70/100\n",
      " - 0s - loss: 0.0035\n",
      "Epoch 71/100\n",
      " - 0s - loss: 0.0034\n",
      "Epoch 72/100\n",
      " - 0s - loss: 0.0035\n",
      "Epoch 73/100\n",
      " - 0s - loss: 0.0034\n",
      "Epoch 74/100\n",
      " - 0s - loss: 0.0034\n",
      "Epoch 75/100\n",
      " - 0s - loss: 0.0034\n",
      "Epoch 76/100\n",
      " - 0s - loss: 0.0034\n",
      "Epoch 77/100\n",
      " - 0s - loss: 0.0034\n",
      "Epoch 78/100\n",
      " - 0s - loss: 0.0033\n",
      "Epoch 79/100\n",
      " - 0s - loss: 0.0034\n",
      "Epoch 80/100\n",
      " - 0s - loss: 0.0033\n",
      "Epoch 81/100\n",
      " - 0s - loss: 0.0034\n",
      "Epoch 82/100\n",
      " - 0s - loss: 0.0034\n",
      "Epoch 83/100\n",
      " - 0s - loss: 0.0033\n",
      "Epoch 84/100\n",
      " - 0s - loss: 0.0033\n",
      "Epoch 85/100\n",
      " - 0s - loss: 0.0033\n",
      "Epoch 86/100\n",
      " - 0s - loss: 0.0033\n",
      "Epoch 87/100\n",
      " - 0s - loss: 0.0032\n",
      "Epoch 88/100\n",
      " - 0s - loss: 0.0032\n",
      "Epoch 89/100\n",
      " - 0s - loss: 0.0032\n",
      "Epoch 90/100\n",
      " - 0s - loss: 0.0033\n",
      "Epoch 91/100\n",
      " - 0s - loss: 0.0032\n",
      "Epoch 92/100\n",
      " - 0s - loss: 0.0032\n",
      "Epoch 93/100\n",
      " - 0s - loss: 0.0032\n",
      "Epoch 94/100\n",
      " - 0s - loss: 0.0032\n",
      "Epoch 95/100\n",
      " - 0s - loss: 0.0032\n",
      "Epoch 96/100\n",
      " - 0s - loss: 0.0031\n",
      "Epoch 97/100\n",
      " - 0s - loss: 0.0031\n",
      "Epoch 98/100\n",
      " - 0s - loss: 0.0031\n",
      "Epoch 99/100\n",
      " - 0s - loss: 0.0031\n",
      "Epoch 100/100\n",
      " - 0s - loss: 0.0031\n"
     ]
    },
    {
     "data": {
      "text/plain": [
       "<keras.callbacks.History at 0x2046ac3dac8>"
      ]
     },
     "execution_count": 28,
     "metadata": {},
     "output_type": "execute_result"
    }
   ],
   "source": [
    "model=Sequential()\n",
    "model.add(LSTM(1,input_shape=(1,look_back)))\n",
    "model.add(Dense(1))\n",
    "model.compile(loss='mean_squared_error',optimizer='adam')\n",
    "model.fit(trainX,trainY,epochs=100,batch_size=1,verbose=2)"
   ]
  },
  {
   "cell_type": "markdown",
   "metadata": {},
   "source": [
    "## make predictions"
   ]
  },
  {
   "cell_type": "code",
   "execution_count": 29,
   "metadata": {},
   "outputs": [],
   "source": [
    "trainPredict=model.predict(trainX)\n",
    "testPredict=model.predict(testX)"
   ]
  },
  {
   "cell_type": "markdown",
   "metadata": {},
   "source": [
    "## invert predictions"
   ]
  },
  {
   "cell_type": "code",
   "execution_count": 30,
   "metadata": {},
   "outputs": [],
   "source": [
    "trainPredict=scaler.inverse_transform(trainPredict)\n",
    "trainY=scaler.inverse_transform([trainY])\n",
    "testPredict=scaler.inverse_transform(testPredict)\n",
    "testY=scaler.inverse_transform([testY])"
   ]
  },
  {
   "cell_type": "markdown",
   "metadata": {},
   "source": [
    "## calculate root mean squared error"
   ]
  },
  {
   "cell_type": "code",
   "execution_count": 31,
   "metadata": {},
   "outputs": [
    {
     "name": "stdout",
     "output_type": "stream",
     "text": [
      "train score: 28.476844212915935\n",
      "test score : 80.36412975009708\n"
     ]
    }
   ],
   "source": [
    "trainScore=math.sqrt(mean_squared_error(trainY[0],trainPredict[:,0]))\n",
    "print(\"train score:\",(trainScore))\n",
    "testScore=math.sqrt(mean_squared_error(testY[0],testPredict[:,0]))\n",
    "print(\"test score :\",(testScore))"
   ]
  },
  {
   "cell_type": "markdown",
   "metadata": {},
   "source": [
    "##  plotting"
   ]
  },
  {
   "cell_type": "code",
   "execution_count": 32,
   "metadata": {},
   "outputs": [
    {
     "data": {
      "image/png": "[encoded data removed]",
      "text/plain": [
       "<Figure size 432x288 with 1 Axes>"
      ]
     },
     "metadata": {
      "needs_background": "light"
     },
     "output_type": "display_data"
    }
   ],
   "source": [
    "# shift train predictions for plotting\n",
    "trainPredictPlot = numpy.empty_like(dataset)\n",
    "trainPredictPlot[:, :] = numpy.nan\n",
    "trainPredictPlot[look_back:len(trainPredict)+look_back, :] = trainPredict\n",
    "# shift test predictions for plotting\n",
    "testPredictPlot = numpy.empty_like(dataset)\n",
    "testPredictPlot[:, :] = numpy.nan\n",
    "testPredictPlot[len(trainPredict)+(look_back*2)+1:len(dataset)-1, :] = testPredict\n",
    "# plot baseline and predictions\n",
    "plt.plot(scaler.inverse_transform(dataset))\n",
    "plt.plot(trainPredictPlot)\n",
    "plt.plot(testPredictPlot)\n",
    "plt.show()"
   ]
  },
  {
   "cell_type": "markdown",
   "metadata": {},
   "source": [
    "We can see that the error was increased slightly compared to that of the previous section. The window size and the network architecture were not tuned: this is just a demonstration of how to frame a prediction problem."
   ]
  }
 ],
 "metadata": {
  "kernelspec": {
   "display_name": "Python 3",
   "language": "python",
   "name": "python3"
  },
  "language_info": {
   "codemirror_mode": {
    "name": "ipython",
    "version": 3
   },
   "file_extension": ".py",
   "mimetype": "text/x-python",
   "name": "python",
   "nbconvert_exporter": "python",
   "pygments_lexer": "ipython3",
   "version": "3.6.5"
  }
 },
 "nbformat": 4,
 "nbformat_minor": 2
}
