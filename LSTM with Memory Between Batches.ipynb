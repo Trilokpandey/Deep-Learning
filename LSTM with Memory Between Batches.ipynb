{
 "cells": [
  {
   "cell_type": "markdown",
   "metadata": {},
   "source": [
    "## Load Libraries"
   ]
  },
  {
   "cell_type": "code",
   "execution_count": 21,
   "metadata": {},
   "outputs": [],
   "source": [
    "import numpy\n",
    "from pandas import read_csv\n",
    "import math\n",
    "import matplotlib.pyplot as plt\n",
    "from keras.models import Sequential\n",
    "from keras.layers import Dense\n",
    "from keras.layers import LSTM\n",
    "from sklearn.preprocessing import MinMaxScaler\n",
    "from sklearn.metrics import mean_squared_error"
   ]
  },
  {
   "cell_type": "markdown",
   "metadata": {},
   "source": [
    "## convert an array of values into a dataset matrix"
   ]
  },
  {
   "cell_type": "code",
   "execution_count": 22,
   "metadata": {},
   "outputs": [],
   "source": [
    "def create_dataset(dataset,look_back=1):\n",
    "    dataX,dataY=[],[]\n",
    "    for i in range(len(dataset)-look_back-1):\n",
    "        a=dataset[i:(i+look_back),0]\n",
    "        dataX.append(a)\n",
    "        dataY.append(dataset[i+look_back,0])\n",
    "    return numpy.array(dataX),numpy.array(dataY)\n",
    "        "
   ]
  },
  {
   "cell_type": "markdown",
   "metadata": {},
   "source": [
    "## load dataset"
   ]
  },
  {
   "cell_type": "code",
   "execution_count": 23,
   "metadata": {},
   "outputs": [],
   "source": [
    "numpy.random.seed(7)\n",
    "dataframe=read_csv(\"Desktop\\\\airline-passengers.csv\",usecols=[1])\n",
    "dataset=dataframe.values\n",
    "dataset=dataset.astype('float32')"
   ]
  },
  {
   "cell_type": "markdown",
   "metadata": {},
   "source": [
    "## normalize the dataset"
   ]
  },
  {
   "cell_type": "code",
   "execution_count": 24,
   "metadata": {},
   "outputs": [],
   "source": [
    "scaler=MinMaxScaler(feature_range=(0,1))\n",
    "dataset=scaler.fit_transform(dataset)"
   ]
  },
  {
   "cell_type": "markdown",
   "metadata": {},
   "source": [
    "## split into train and test sets"
   ]
  },
  {
   "cell_type": "code",
   "execution_count": 25,
   "metadata": {},
   "outputs": [],
   "source": [
    "train_size=int(len(dataset)*0.67)\n",
    "test_size=len(dataset)-train_size\n",
    "train,test=dataset[0:train_size,:],dataset[train_size:len(dataset),:]"
   ]
  },
  {
   "cell_type": "markdown",
   "metadata": {},
   "source": [
    "## reshape into X=t and Y=t+1"
   ]
  },
  {
   "cell_type": "code",
   "execution_count": 26,
   "metadata": {},
   "outputs": [],
   "source": [
    "look_back=3\n",
    "trainX,trainY=create_dataset(train,look_back)\n",
    "testX,testY=create_dataset(test,look_back)"
   ]
  },
  {
   "cell_type": "markdown",
   "metadata": {},
   "source": [
    "## reshape input to be [samples, time steps, features]"
   ]
  },
  {
   "cell_type": "code",
   "execution_count": 27,
   "metadata": {},
   "outputs": [],
   "source": [
    "trainX=numpy.reshape(trainX,(trainX.shape[0],trainX.shape[1],1))\n",
    "testX=numpy.reshape(testX,(testX.shape[0],testX.shape[1],1))"
   ]
  },
  {
   "cell_type": "markdown",
   "metadata": {},
   "source": [
    "The LSTM network has memory, which is capable of remembering across long sequences.\n",
    "\n",
    "Normally, the state within the network is reset after each training batch when fitting the model, as well as each call to model.predict() or model.evaluate()."
   ]
  },
  {
   "cell_type": "markdown",
   "metadata": {},
   "source": [
    "It requires that the training data not be shuffled when fitting the network. It also requires explicit resetting of the network state after each exposure to the training data (epoch) by calls to model.reset_states(). This means that we must create our own outer loop of epochs and within each epoch call model.fit() and model.reset_states()."
   ]
  },
  {
   "cell_type": "markdown",
   "metadata": {},
   "source": [
    "Finally, when the LSTM layer is constructed, the stateful parameter must be set True and instead of specifying the input dimensions, we must hard code the number of samples in a batch, number of time steps in a sample and number of features in a time step by setting the batch_input_shape parameter."
   ]
  },
  {
   "cell_type": "markdown",
   "metadata": {},
   "source": [
    "## create and fit the LSTM network"
   ]
  },
  {
   "cell_type": "code",
   "execution_count": 28,
   "metadata": {},
   "outputs": [
    {
     "name": "stdout",
     "output_type": "stream",
     "text": [
      "Epoch 1/1\n",
      " - 1s - loss: 0.0048\n",
      "Epoch 1/1\n",
      " - 0s - loss: 0.0082\n",
      "Epoch 1/1\n",
      " - 0s - loss: 0.0056\n",
      "Epoch 1/1\n",
      " - 0s - loss: 0.0048\n",
      "Epoch 1/1\n",
      " - 0s - loss: 0.0047\n",
      "Epoch 1/1\n",
      " - 0s - loss: 0.0047\n",
      "Epoch 1/1\n",
      " - 0s - loss: 0.0047\n",
      "Epoch 1/1\n",
      " - 0s - loss: 0.0046\n",
      "Epoch 1/1\n",
      " - 0s - loss: 0.0045\n",
      "Epoch 1/1\n",
      " - 0s - loss: 0.0045\n",
      "Epoch 1/1\n",
      " - 0s - loss: 0.0044\n",
      "Epoch 1/1\n",
      " - 0s - loss: 0.0043\n",
      "Epoch 1/1\n",
      " - 0s - loss: 0.0043\n",
      "Epoch 1/1\n",
      " - 0s - loss: 0.0042\n",
      "Epoch 1/1\n",
      " - 0s - loss: 0.0042\n",
      "Epoch 1/1\n",
      " - 0s - loss: 0.0041\n",
      "Epoch 1/1\n",
      " - 0s - loss: 0.0041\n",
      "Epoch 1/1\n",
      " - 0s - loss: 0.0040\n",
      "Epoch 1/1\n",
      " - 0s - loss: 0.0040\n",
      "Epoch 1/1\n",
      " - 0s - loss: 0.0039\n",
      "Epoch 1/1\n",
      " - 0s - loss: 0.0038\n",
      "Epoch 1/1\n",
      " - 0s - loss: 0.0037\n",
      "Epoch 1/1\n",
      " - 0s - loss: 0.0037\n",
      "Epoch 1/1\n",
      " - 0s - loss: 0.0036\n",
      "Epoch 1/1\n",
      " - 0s - loss: 0.0035\n",
      "Epoch 1/1\n",
      " - 0s - loss: 0.0034\n",
      "Epoch 1/1\n",
      " - 0s - loss: 0.0033\n",
      "Epoch 1/1\n",
      " - 0s - loss: 0.0032\n",
      "Epoch 1/1\n",
      " - 0s - loss: 0.0032\n",
      "Epoch 1/1\n",
      " - 0s - loss: 0.0031\n",
      "Epoch 1/1\n",
      " - 0s - loss: 0.0030\n",
      "Epoch 1/1\n",
      " - 0s - loss: 0.0029\n",
      "Epoch 1/1\n",
      " - 0s - loss: 0.0029\n",
      "Epoch 1/1\n",
      " - 0s - loss: 0.0028\n",
      "Epoch 1/1\n",
      " - 0s - loss: 0.0027\n",
      "Epoch 1/1\n",
      " - 0s - loss: 0.0027\n",
      "Epoch 1/1\n",
      " - 0s - loss: 0.0026\n",
      "Epoch 1/1\n",
      " - 0s - loss: 0.0026\n",
      "Epoch 1/1\n",
      " - 0s - loss: 0.0026\n",
      "Epoch 1/1\n",
      " - 0s - loss: 0.0025\n",
      "Epoch 1/1\n",
      " - 0s - loss: 0.0025\n",
      "Epoch 1/1\n",
      " - 0s - loss: 0.0024\n",
      "Epoch 1/1\n",
      " - 0s - loss: 0.0024\n",
      "Epoch 1/1\n",
      " - 0s - loss: 0.0024\n",
      "Epoch 1/1\n",
      " - 0s - loss: 0.0024\n",
      "Epoch 1/1\n",
      " - 0s - loss: 0.0023\n",
      "Epoch 1/1\n",
      " - 0s - loss: 0.0023\n",
      "Epoch 1/1\n",
      " - 0s - loss: 0.0023\n",
      "Epoch 1/1\n",
      " - 0s - loss: 0.0022\n",
      "Epoch 1/1\n",
      " - 0s - loss: 0.0022\n",
      "Epoch 1/1\n",
      " - 0s - loss: 0.0022\n",
      "Epoch 1/1\n",
      " - 0s - loss: 0.0022\n",
      "Epoch 1/1\n",
      " - 0s - loss: 0.0022\n",
      "Epoch 1/1\n",
      " - 0s - loss: 0.0021\n",
      "Epoch 1/1\n",
      " - 0s - loss: 0.0021\n",
      "Epoch 1/1\n",
      " - 0s - loss: 0.0021\n",
      "Epoch 1/1\n",
      " - 0s - loss: 0.0021\n",
      "Epoch 1/1\n",
      " - 0s - loss: 0.0021\n",
      "Epoch 1/1\n",
      " - 0s - loss: 0.0020\n",
      "Epoch 1/1\n",
      " - 0s - loss: 0.0020\n",
      "Epoch 1/1\n",
      " - 0s - loss: 0.0020\n",
      "Epoch 1/1\n",
      " - 0s - loss: 0.0020\n",
      "Epoch 1/1\n",
      " - 0s - loss: 0.0020\n",
      "Epoch 1/1\n",
      " - 0s - loss: 0.0020\n",
      "Epoch 1/1\n",
      " - 0s - loss: 0.0019\n",
      "Epoch 1/1\n",
      " - 0s - loss: 0.0019\n",
      "Epoch 1/1\n",
      " - 0s - loss: 0.0019\n",
      "Epoch 1/1\n",
      " - 0s - loss: 0.0019\n",
      "Epoch 1/1\n",
      " - 0s - loss: 0.0019\n",
      "Epoch 1/1\n",
      " - 0s - loss: 0.0019\n",
      "Epoch 1/1\n",
      " - 0s - loss: 0.0019\n",
      "Epoch 1/1\n",
      " - 0s - loss: 0.0019\n",
      "Epoch 1/1\n",
      " - 0s - loss: 0.0018\n",
      "Epoch 1/1\n",
      " - 0s - loss: 0.0018\n",
      "Epoch 1/1\n",
      " - 0s - loss: 0.0018\n",
      "Epoch 1/1\n",
      " - 0s - loss: 0.0018\n",
      "Epoch 1/1\n",
      " - 0s - loss: 0.0018\n",
      "Epoch 1/1\n",
      " - 0s - loss: 0.0018\n",
      "Epoch 1/1\n",
      " - 0s - loss: 0.0018\n",
      "Epoch 1/1\n",
      " - 0s - loss: 0.0018\n",
      "Epoch 1/1\n",
      " - 0s - loss: 0.0018\n",
      "Epoch 1/1\n",
      " - 0s - loss: 0.0018\n",
      "Epoch 1/1\n",
      " - 0s - loss: 0.0017\n",
      "Epoch 1/1\n",
      " - 0s - loss: 0.0017\n",
      "Epoch 1/1\n",
      " - 0s - loss: 0.0017\n",
      "Epoch 1/1\n",
      " - 0s - loss: 0.0017\n",
      "Epoch 1/1\n",
      " - 0s - loss: 0.0017\n",
      "Epoch 1/1\n",
      " - 0s - loss: 0.0017\n",
      "Epoch 1/1\n",
      " - 0s - loss: 0.0017\n",
      "Epoch 1/1\n",
      " - 0s - loss: 0.0017\n",
      "Epoch 1/1\n",
      " - 0s - loss: 0.0017\n",
      "Epoch 1/1\n",
      " - 0s - loss: 0.0017\n",
      "Epoch 1/1\n",
      " - 0s - loss: 0.0017\n",
      "Epoch 1/1\n",
      " - 0s - loss: 0.0017\n",
      "Epoch 1/1\n",
      " - 0s - loss: 0.0017\n",
      "Epoch 1/1\n",
      " - 0s - loss: 0.0017\n",
      "Epoch 1/1\n",
      " - 0s - loss: 0.0017\n",
      "Epoch 1/1\n",
      " - 0s - loss: 0.0017\n",
      "Epoch 1/1\n",
      " - 0s - loss: 0.0017\n",
      "Epoch 1/1\n",
      " - 0s - loss: 0.0017\n"
     ]
    }
   ],
   "source": [
    "batch_size = 1\n",
    "model=Sequential()\n",
    "model.add(LSTM(4,batch_input_shape=(batch_size,look_back,1),stateful=True))\n",
    "model.add(Dense(1))\n",
    "model.compile(loss='mean_squared_error',optimizer='adam')\n",
    "for i in range(100):\n",
    "    model.fit(trainX,trainY,epochs=1,batch_size=batch_size,verbose=2,shuffle=False)\n",
    "    model.reset_states()"
   ]
  },
  {
   "cell_type": "markdown",
   "metadata": {},
   "source": [
    "## make predictions"
   ]
  },
  {
   "cell_type": "code",
   "execution_count": 29,
   "metadata": {},
   "outputs": [],
   "source": [
    "trainPredict=model.predict(trainX,batch_size=batch_size)\n",
    "model.reset_states()\n",
    "testPredict=model.predict(testX,batch_size=batch_size)\n",
    "model.reset_states()"
   ]
  },
  {
   "cell_type": "markdown",
   "metadata": {},
   "source": [
    "## invert predictions"
   ]
  },
  {
   "cell_type": "code",
   "execution_count": 30,
   "metadata": {},
   "outputs": [],
   "source": [
    "trainPredict=scaler.inverse_transform(trainPredict)\n",
    "trainY=scaler.inverse_transform([trainY])\n",
    "testPredict=scaler.inverse_transform(testPredict)\n",
    "testY=scaler.inverse_transform([testY])"
   ]
  },
  {
   "cell_type": "markdown",
   "metadata": {},
   "source": [
    "## calculate root mean squared error"
   ]
  },
  {
   "cell_type": "code",
   "execution_count": 31,
   "metadata": {},
   "outputs": [
    {
     "name": "stdout",
     "output_type": "stream",
     "text": [
      "train score: 20.7944041290112\n",
      "test score : 55.42099651816383\n"
     ]
    }
   ],
   "source": [
    "trainScore=math.sqrt(mean_squared_error(trainY[0],trainPredict[:,0]))\n",
    "print(\"train score:\",trainScore)\n",
    "testScore=math.sqrt(mean_squared_error(testY[0],testPredict[:,0]))\n",
    "print(\"test score :\",testScore)"
   ]
  },
  {
   "cell_type": "markdown",
   "metadata": {},
   "source": [
    "## plotting"
   ]
  },
  {
   "cell_type": "code",
   "execution_count": 33,
   "metadata": {},
   "outputs": [
    {
     "data": {
      "image/png": "[encoded data removed]",
      "text/plain": [
       "<Figure size 432x288 with 1 Axes>"
      ]
     },
     "metadata": {
      "needs_background": "light"
     },
     "output_type": "display_data"
    }
   ],
   "source": [
    "trainPredictPlot=numpy.empty_like(dataset)\n",
    "trainPredictPlot[:,:]=numpy.nan\n",
    "trainPredictPlot[look_back:len(trainPredict)+look_back,:]=trainPredict\n",
    "\n",
    "testPredictPlot=numpy.empty_like(dataset)\n",
    "testPredictPlot[:,:]=numpy.nan\n",
    "testPredictPlot[len(trainPredict)+(2*look_back)+1:len(dataset)-1,:]=testPredict\n",
    "\n",
    "plt.plot(scaler.inverse_transform(dataset))\n",
    "plt.plot(trainPredictPlot)\n",
    "plt.plot(testPredictPlot)\n",
    "plt.show()"
   ]
  },
  {
   "cell_type": "code",
   "execution_count": null,
   "metadata": {},
   "outputs": [],
   "source": []
  }
 ],
 "metadata": {
  "kernelspec": {
   "display_name": "Python 3",
   "language": "python",
   "name": "python3"
  },
  "language_info": {
   "codemirror_mode": {
    "name": "ipython",
    "version": 3
   },
   "file_extension": ".py",
   "mimetype": "text/x-python",
   "name": "python",
   "nbconvert_exporter": "python",
   "pygments_lexer": "ipython3",
   "version": "3.6.5"
  }
 },
 "nbformat": 4,
 "nbformat_minor": 2
}
