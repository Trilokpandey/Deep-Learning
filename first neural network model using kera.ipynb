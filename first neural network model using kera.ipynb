{
 "cells": [
  {
   "cell_type": "markdown",
   "metadata": {},
   "source": [
    "# Sample Multilayer Perceptron Neural Network in Keras"
   ]
  },
  {
   "cell_type": "code",
   "execution_count": 29,
   "metadata": {},
   "outputs": [],
   "source": [
    "from keras.models import Sequential\n",
    "from keras.layers import Dense\n",
    "import numpy"
   ]
  },
  {
   "cell_type": "markdown",
   "metadata": {},
   "source": [
    "## load and prepare the dataset"
   ]
  },
  {
   "cell_type": "code",
   "execution_count": 30,
   "metadata": {},
   "outputs": [],
   "source": [
    "df=numpy.loadtxt(\"Desktop\\\\pima-indians-diabetes.csv\",delimiter=\",\")\n",
    "X=df[:,0:8]\n",
    "Y=df[:,8]\n"
   ]
  },
  {
   "cell_type": "markdown",
   "metadata": {},
   "source": [
    "## 1. define the network"
   ]
  },
  {
   "cell_type": "code",
   "execution_count": 31,
   "metadata": {},
   "outputs": [],
   "source": [
    "model=Sequential()\n",
    "model.add(Dense(12,input_dim=8,activation='relu'))\n",
    "model.add(Dense(1,activation='sigmoid'))\n"
   ]
  },
  {
   "cell_type": "markdown",
   "metadata": {},
   "source": [
    "## 2. compile the network"
   ]
  },
  {
   "cell_type": "code",
   "execution_count": 32,
   "metadata": {},
   "outputs": [],
   "source": [
    "model.compile(loss='binary_crossentropy',optimizer='adam',metrics=['accuracy'])\n"
   ]
  },
  {
   "cell_type": "markdown",
   "metadata": {},
   "source": [
    "## 3. fit the network"
   ]
  },
  {
   "cell_type": "code",
   "execution_count": 33,
   "metadata": {},
   "outputs": [
    {
     "name": "stdout",
     "output_type": "stream",
     "text": [
      "Epoch 1/100\n",
      "768/768 [==============================] - 0s 514us/step - loss: 5.2522 - acc: 0.6354\n",
      "Epoch 2/100\n",
      "768/768 [==============================] - 0s 194us/step - loss: 5.2558 - acc: 0.6224\n",
      "Epoch 3/100\n",
      "768/768 [==============================] - 0s 232us/step - loss: 5.2067 - acc: 0.6328\n",
      "Epoch 4/100\n",
      "768/768 [==============================] - 0s 164us/step - loss: 5.0719 - acc: 0.6276\n",
      "Epoch 5/100\n",
      "768/768 [==============================] - 0s 159us/step - loss: 4.2209 - acc: 0.5951\n",
      "Epoch 6/100\n",
      "768/768 [==============================] - 0s 206us/step - loss: 2.7859 - acc: 0.5885\n",
      "Epoch 7/100\n",
      "768/768 [==============================] - 0s 203us/step - loss: 2.2731 - acc: 0.6198\n",
      "Epoch 8/100\n",
      "768/768 [==============================] - 0s 242us/step - loss: 2.1014 - acc: 0.6341\n",
      "Epoch 9/100\n",
      "768/768 [==============================] - 0s 315us/step - loss: 1.6924 - acc: 0.6484\n",
      "Epoch 10/100\n",
      "768/768 [==============================] - 0s 171us/step - loss: 1.5675 - acc: 0.6628\n",
      "Epoch 11/100\n",
      "768/768 [==============================] - 0s 238us/step - loss: 1.4000 - acc: 0.6615\n",
      "Epoch 12/100\n",
      "768/768 [==============================] - 0s 240us/step - loss: 1.2480 - acc: 0.6758\n",
      "Epoch 13/100\n",
      "768/768 [==============================] - 0s 257us/step - loss: 1.1765 - acc: 0.6862 0s - loss: 0.9459 - acc: 0.7\n",
      "Epoch 14/100\n",
      "768/768 [==============================] - 0s 174us/step - loss: 1.1026 - acc: 0.6784\n",
      "Epoch 15/100\n",
      "768/768 [==============================] - 0s 173us/step - loss: 1.0213 - acc: 0.6849\n",
      "Epoch 16/100\n",
      "768/768 [==============================] - 0s 219us/step - loss: 0.9637 - acc: 0.6654\n",
      "Epoch 17/100\n",
      "768/768 [==============================] - 0s 125us/step - loss: 1.0358 - acc: 0.6745\n",
      "Epoch 18/100\n",
      "768/768 [==============================] - 0s 150us/step - loss: 0.9783 - acc: 0.6536\n",
      "Epoch 19/100\n",
      "768/768 [==============================] - 0s 146us/step - loss: 0.9657 - acc: 0.6549\n",
      "Epoch 20/100\n",
      "768/768 [==============================] - 0s 130us/step - loss: 0.8597 - acc: 0.6667\n",
      "Epoch 21/100\n",
      "768/768 [==============================] - 0s 191us/step - loss: 0.8074 - acc: 0.6693\n",
      "Epoch 22/100\n",
      "768/768 [==============================] - 0s 279us/step - loss: 0.8218 - acc: 0.6693\n",
      "Epoch 23/100\n",
      "768/768 [==============================] - 0s 195us/step - loss: 0.8376 - acc: 0.6693\n",
      "Epoch 24/100\n",
      "768/768 [==============================] - 0s 124us/step - loss: 0.7679 - acc: 0.6875\n",
      "Epoch 25/100\n",
      "768/768 [==============================] - 0s 173us/step - loss: 0.7651 - acc: 0.6771\n",
      "Epoch 26/100\n",
      "768/768 [==============================] - 0s 171us/step - loss: 0.7387 - acc: 0.6589\n",
      "Epoch 27/100\n",
      "768/768 [==============================] - 0s 146us/step - loss: 0.7290 - acc: 0.6992\n",
      "Epoch 28/100\n",
      "768/768 [==============================] - 0s 151us/step - loss: 0.6856 - acc: 0.6797\n",
      "Epoch 29/100\n",
      "768/768 [==============================] - 0s 154us/step - loss: 0.6766 - acc: 0.6862\n",
      "Epoch 30/100\n",
      "768/768 [==============================] - 0s 189us/step - loss: 0.7442 - acc: 0.6719\n",
      "Epoch 31/100\n",
      "768/768 [==============================] - 0s 152us/step - loss: 0.7172 - acc: 0.6849\n",
      "Epoch 32/100\n",
      "768/768 [==============================] - 0s 131us/step - loss: 0.6562 - acc: 0.6992\n",
      "Epoch 33/100\n",
      "768/768 [==============================] - 0s 130us/step - loss: 0.6448 - acc: 0.6992\n",
      "Epoch 34/100\n",
      "768/768 [==============================] - 0s 145us/step - loss: 0.6433 - acc: 0.6888\n",
      "Epoch 35/100\n",
      "768/768 [==============================] - 0s 221us/step - loss: 0.6182 - acc: 0.7018\n",
      "Epoch 36/100\n",
      "768/768 [==============================] - 0s 152us/step - loss: 0.6645 - acc: 0.6901\n",
      "Epoch 37/100\n",
      "768/768 [==============================] - 0s 224us/step - loss: 0.6569 - acc: 0.6953\n",
      "Epoch 38/100\n",
      "768/768 [==============================] - 0s 168us/step - loss: 0.6625 - acc: 0.6823\n",
      "Epoch 39/100\n",
      "768/768 [==============================] - 0s 216us/step - loss: 0.6433 - acc: 0.7109\n",
      "Epoch 40/100\n",
      "768/768 [==============================] - 0s 152us/step - loss: 0.6251 - acc: 0.7044\n",
      "Epoch 41/100\n",
      "768/768 [==============================] - 0s 169us/step - loss: 0.6367 - acc: 0.7083\n",
      "Epoch 42/100\n",
      "768/768 [==============================] - 0s 147us/step - loss: 0.6514 - acc: 0.6992\n",
      "Epoch 43/100\n",
      "768/768 [==============================] - 0s 182us/step - loss: 0.6139 - acc: 0.6992\n",
      "Epoch 44/100\n",
      "768/768 [==============================] - 0s 227us/step - loss: 0.6278 - acc: 0.7018\n",
      "Epoch 45/100\n",
      "768/768 [==============================] - 0s 254us/step - loss: 0.6484 - acc: 0.6914\n",
      "Epoch 46/100\n",
      "768/768 [==============================] - 0s 240us/step - loss: 0.6125 - acc: 0.7070\n",
      "Epoch 47/100\n",
      "768/768 [==============================] - 0s 249us/step - loss: 0.6208 - acc: 0.7188\n",
      "Epoch 48/100\n",
      "768/768 [==============================] - 0s 233us/step - loss: 0.5788 - acc: 0.7240\n",
      "Epoch 49/100\n",
      "768/768 [==============================] - 0s 267us/step - loss: 0.5960 - acc: 0.7135\n",
      "Epoch 50/100\n",
      "768/768 [==============================] - 0s 194us/step - loss: 0.5746 - acc: 0.7292\n",
      "Epoch 51/100\n",
      "768/768 [==============================] - 0s 171us/step - loss: 0.5797 - acc: 0.7135\n",
      "Epoch 52/100\n",
      "768/768 [==============================] - 0s 167us/step - loss: 0.6078 - acc: 0.7083\n",
      "Epoch 53/100\n",
      "768/768 [==============================] - 0s 228us/step - loss: 0.6353 - acc: 0.7083\n",
      "Epoch 54/100\n",
      "768/768 [==============================] - 0s 193us/step - loss: 0.6191 - acc: 0.7122\n",
      "Epoch 55/100\n",
      "768/768 [==============================] - 0s 150us/step - loss: 0.6034 - acc: 0.6992\n",
      "Epoch 56/100\n",
      "768/768 [==============================] - 0s 126us/step - loss: 0.6466 - acc: 0.6953\n",
      "Epoch 57/100\n",
      "768/768 [==============================] - 0s 139us/step - loss: 0.5638 - acc: 0.7357\n",
      "Epoch 58/100\n",
      "768/768 [==============================] - 0s 163us/step - loss: 0.6310 - acc: 0.6888\n",
      "Epoch 59/100\n",
      "768/768 [==============================] - 0s 160us/step - loss: 0.5815 - acc: 0.7279\n",
      "Epoch 60/100\n",
      "768/768 [==============================] - 0s 122us/step - loss: 0.6156 - acc: 0.7109\n",
      "Epoch 61/100\n",
      "768/768 [==============================] - 0s 134us/step - loss: 0.6158 - acc: 0.7148\n",
      "Epoch 62/100\n",
      "768/768 [==============================] - 0s 132us/step - loss: 0.5721 - acc: 0.7174\n",
      "Epoch 63/100\n",
      "768/768 [==============================] - 0s 186us/step - loss: 0.5679 - acc: 0.7266\n",
      "Epoch 64/100\n",
      "768/768 [==============================] - 0s 225us/step - loss: 0.5980 - acc: 0.7057\n",
      "Epoch 65/100\n",
      "768/768 [==============================] - 0s 189us/step - loss: 0.5784 - acc: 0.7279\n",
      "Epoch 66/100\n",
      "768/768 [==============================] - 0s 143us/step - loss: 0.5841 - acc: 0.7266\n",
      "Epoch 67/100\n",
      "768/768 [==============================] - 0s 289us/step - loss: 0.5482 - acc: 0.7422\n",
      "Epoch 68/100\n",
      "768/768 [==============================] - 0s 267us/step - loss: 0.5612 - acc: 0.7435\n",
      "Epoch 69/100\n",
      "768/768 [==============================] - 0s 176us/step - loss: 0.5428 - acc: 0.7357\n",
      "Epoch 70/100\n",
      "768/768 [==============================] - 0s 118us/step - loss: 0.5756 - acc: 0.7318\n",
      "Epoch 71/100\n",
      "768/768 [==============================] - 0s 169us/step - loss: 0.6225 - acc: 0.7266\n",
      "Epoch 72/100\n",
      "768/768 [==============================] - 0s 145us/step - loss: 0.6225 - acc: 0.7174\n",
      "Epoch 73/100\n",
      "768/768 [==============================] - 0s 104us/step - loss: 0.6279 - acc: 0.7174\n",
      "Epoch 74/100\n",
      "768/768 [==============================] - 0s 120us/step - loss: 0.5730 - acc: 0.7396\n",
      "Epoch 75/100\n",
      "768/768 [==============================] - 0s 128us/step - loss: 0.5741 - acc: 0.7148\n",
      "Epoch 76/100\n",
      "768/768 [==============================] - 0s 168us/step - loss: 0.5571 - acc: 0.7174\n",
      "Epoch 77/100\n",
      "768/768 [==============================] - 0s 134us/step - loss: 0.5678 - acc: 0.7292\n",
      "Epoch 78/100\n",
      "768/768 [==============================] - 0s 151us/step - loss: 0.5607 - acc: 0.7305\n",
      "Epoch 79/100\n",
      "768/768 [==============================] - 0s 155us/step - loss: 0.5764 - acc: 0.7318\n",
      "Epoch 80/100\n",
      "768/768 [==============================] - 0s 198us/step - loss: 0.6211 - acc: 0.7057\n",
      "Epoch 81/100\n",
      "768/768 [==============================] - 0s 178us/step - loss: 0.5605 - acc: 0.7292\n",
      "Epoch 82/100\n",
      "768/768 [==============================] - 0s 155us/step - loss: 0.5353 - acc: 0.7474\n",
      "Epoch 83/100\n"
     ]
    },
    {
     "name": "stdout",
     "output_type": "stream",
     "text": [
      "768/768 [==============================] - 0s 165us/step - loss: 0.5701 - acc: 0.7135\n",
      "Epoch 84/100\n",
      "768/768 [==============================] - 0s 152us/step - loss: 0.6291 - acc: 0.7122\n",
      "Epoch 85/100\n",
      "768/768 [==============================] - 0s 105us/step - loss: 0.5647 - acc: 0.7331\n",
      "Epoch 86/100\n",
      "768/768 [==============================] - 0s 128us/step - loss: 0.6488 - acc: 0.6940\n",
      "Epoch 87/100\n",
      "768/768 [==============================] - 0s 152us/step - loss: 0.5149 - acc: 0.7513\n",
      "Epoch 88/100\n",
      "768/768 [==============================] - 0s 132us/step - loss: 0.5736 - acc: 0.7305\n",
      "Epoch 89/100\n",
      "768/768 [==============================] - 0s 116us/step - loss: 0.5188 - acc: 0.7539\n",
      "Epoch 90/100\n",
      "768/768 [==============================] - 0s 142us/step - loss: 0.5344 - acc: 0.7396\n",
      "Epoch 91/100\n",
      "768/768 [==============================] - 0s 109us/step - loss: 0.5342 - acc: 0.7331\n",
      "Epoch 92/100\n",
      "768/768 [==============================] - 0s 129us/step - loss: 0.5970 - acc: 0.7201\n",
      "Epoch 93/100\n",
      "768/768 [==============================] - 0s 132us/step - loss: 0.5863 - acc: 0.7057\n",
      "Epoch 94/100\n",
      "768/768 [==============================] - 0s 105us/step - loss: 0.5484 - acc: 0.7174\n",
      "Epoch 95/100\n",
      "768/768 [==============================] - 0s 126us/step - loss: 0.5576 - acc: 0.7357\n",
      "Epoch 96/100\n",
      "768/768 [==============================] - 0s 115us/step - loss: 0.5964 - acc: 0.7174\n",
      "Epoch 97/100\n",
      "768/768 [==============================] - 0s 115us/step - loss: 0.5495 - acc: 0.7422\n",
      "Epoch 98/100\n",
      "768/768 [==============================] - 0s 181us/step - loss: 0.6064 - acc: 0.7005\n",
      "Epoch 99/100\n",
      "768/768 [==============================] - 0s 182us/step - loss: 0.6509 - acc: 0.7070\n",
      "Epoch 100/100\n",
      "768/768 [==============================] - 0s 130us/step - loss: 0.5256 - acc: 0.7461\n"
     ]
    }
   ],
   "source": [
    "history=model.fit(X,Y,epochs=100,batch_size=10)\n"
   ]
  },
  {
   "cell_type": "markdown",
   "metadata": {},
   "source": [
    "## 4. evaluate the network"
   ]
  },
  {
   "cell_type": "code",
   "execution_count": 34,
   "metadata": {},
   "outputs": [
    {
     "name": "stdout",
     "output_type": "stream",
     "text": [
      "768/768 [==============================] - 0s 104us/step\n",
      "0.6458272561430931 65.234375\n"
     ]
    }
   ],
   "source": [
    "loss,accuracy=model.evaluate(X,Y)\n",
    "print(loss,accuracy*100)"
   ]
  },
  {
   "cell_type": "markdown",
   "metadata": {},
   "source": [
    "## 5. make predictions"
   ]
  },
  {
   "cell_type": "code",
   "execution_count": 36,
   "metadata": {},
   "outputs": [
    {
     "name": "stdout",
     "output_type": "stream",
     "text": [
      "prediction accuracy 65.234375\n"
     ]
    }
   ],
   "source": [
    "probability=model.predict(X)\n",
    "prediction=[[float(numpy.round(x)) for x in probability]]\n",
    "accuracy=numpy.mean(prediction==Y)\n",
    "print(\"prediction accuracy\",(accuracy*100))"
   ]
  },
  {
   "cell_type": "code",
   "execution_count": null,
   "metadata": {},
   "outputs": [],
   "source": []
  }
 ],
 "metadata": {
  "kernelspec": {
   "display_name": "Python 3.6 (tensorflow)",
   "language": "python",
   "name": "tensorflow"
  },
  "language_info": {
   "codemirror_mode": {
    "name": "ipython",
    "version": 3
   },
   "file_extension": ".py",
   "mimetype": "text/x-python",
   "name": "python",
   "nbconvert_exporter": "python",
   "pygments_lexer": "ipython3",
   "version": "3.6.5"
  }
 },
 "nbformat": 4,
 "nbformat_minor": 2
}
