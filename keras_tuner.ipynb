{
  "cells": [
    {
      "cell_type": "markdown",
      "metadata": {
        "id": "Tce3stUlHN0L"
      },
      "source": [
        "##### Copyright 2020 The TensorFlow Authors."
      ]
    },
    {
      "cell_type": "code",
      "execution_count": 3,
      "metadata": {
        "cellView": "form",
        "id": "tuOe1ymfHZPu"
      },
      "outputs": [],
      "source": [
        "#@title Licensed under the Apache License, Version 2.0 (the \"License\");\n",
        "# you may not use this file except in compliance with the License.\n",
        "# You may obtain a copy of the License at\n",
        "#\n",
        "# https://www.apache.org/licenses/LICENSE-2.0\n",
        "#\n",
        "# Unless required by applicable law or agreed to in writing, software\n",
        "# distributed under the License is distributed on an \"AS IS\" BASIS,\n",
        "# WITHOUT WARRANTIES OR CONDITIONS OF ANY KIND, either express or implied.\n",
        "# See the License for the specific language governing permissions and\n",
        "# limitations under the License."
      ]
    },
    {
      "cell_type": "markdown",
      "metadata": {
        "id": "qFdPvlXBOdUN"
      },
      "source": [
        "# Introduction to the Keras Tuner"
      ]
    },
    {
      "cell_type": "markdown",
      "metadata": {
        "id": "MfBg1C5NB3X0"
      },
      "source": [
        "<table class=\"tfo-notebook-buttons\" align=\"left\">\n",
        "  <td>\n",
        "    <a target=\"_blank\" href=\"https://www.tensorflow.org/tutorials/keras/keras_tuner\"><img src=\"https://www.tensorflow.org/images/tf_logo_32px.png\" />View on TensorFlow.org</a>\n",
        "  </td>\n",
        "  <td>\n",
        "    <a target=\"_blank\" href=\"https://colab.research.google.com/github/tensorflow/docs/blob/master/site/en/tutorials/keras/keras_tuner.ipynb\"><img src=\"https://www.tensorflow.org/images/colab_logo_32px.png\" />Run in Google Colab</a>\n",
        "  </td>\n",
        "  <td>\n",
        "    <a target=\"_blank\" href=\"https://github.com/tensorflow/docs/blob/master/site/en/tutorials/keras/keras_tuner.ipynb\"><img src=\"https://www.tensorflow.org/images/GitHub-Mark-32px.png\" />View source on GitHub</a>\n",
        "  </td>\n",
        "  <td>\n",
        "    <a href=\"https://storage.googleapis.com/tensorflow_docs/docs/site/en/tutorials/keras/keras_tuner.ipynb\"><img src=\"https://www.tensorflow.org/images/download_logo_32px.png\" />Download notebook</a>\n",
        "  </td>\n",
        "</table>"
      ]
    },
    {
      "cell_type": "markdown",
      "metadata": {
        "id": "xHxb-dlhMIzW"
      },
      "source": [
        "## Overview\n",
        "\n",
        "The Keras Tuner is a library that helps you pick the optimal set of hyperparameters for your TensorFlow program. The process of selecting the right set of hyperparameters for your machine learning (ML) application is called *hyperparameter tuning* or *hypertuning*.\n",
        "\n",
        "Hyperparameters are the variables that govern the training process and the topology of an ML model. These variables remain constant over the training process and directly impact the performance of your ML program. Hyperparameters are of two types:\n",
        "1. **Model hyperparameters** which influence model selection such as the number and width of hidden layers\n",
        "2. **Algorithm hyperparameters** which influence the speed and quality of the learning algorithm such as the learning rate for Stochastic Gradient Descent (SGD) and the number of nearest neighbors for a k Nearest Neighbors (KNN) classifier\n",
        "\n",
        "In this tutorial, you will use the Keras Tuner to perform hypertuning for an image classification application."
      ]
    },
    {
      "cell_type": "markdown",
      "metadata": {
        "id": "MUXex9ctTuDB"
      },
      "source": [
        "## Setup"
      ]
    },
    {
      "cell_type": "code",
      "execution_count": 4,
      "metadata": {
        "id": "IqR2PQG4ZaZ0"
      },
      "outputs": [],
      "source": [
        "import tensorflow as tf\n",
        "from tensorflow import keras"
      ]
    },
    {
      "cell_type": "markdown",
      "metadata": {
        "id": "g83Lwsy-Aq2_"
      },
      "source": [
        "Install and import the Keras Tuner."
      ]
    },
    {
      "cell_type": "code",
      "execution_count": 5,
      "metadata": {
        "id": "hpMLpbt9jcO6",
        "outputId": "7c6983ef-c6c5-411e-f1f1-aef3e50f0ecf",
        "colab": {
          "base_uri": "https://localhost:8080/"
        }
      },
      "outputs": [
        {
          "output_type": "stream",
          "name": "stdout",
          "text": [
            "\u001b[K     |████████████████████████████████| 135 kB 27.5 MB/s \n",
            "\u001b[K     |████████████████████████████████| 1.6 MB 66.0 MB/s \n",
            "\u001b[?25h"
          ]
        }
      ],
      "source": [
        "!pip install -q -U keras-tuner"
      ]
    },
    {
      "cell_type": "code",
      "execution_count": 6,
      "metadata": {
        "id": "_leAIdFKAxAD"
      },
      "outputs": [],
      "source": [
        "import keras_tuner as kt"
      ]
    },
    {
      "cell_type": "markdown",
      "metadata": {
        "id": "ReV_UXOgCZvx"
      },
      "source": [
        "## Download and prepare the dataset\n",
        "\n",
        "In this tutorial, you will use the Keras Tuner to find the best hyperparameters for a machine learning model that classifies images of clothing from the [Fashion MNIST dataset](https://github.com/zalandoresearch/fashion-mnist)."
      ]
    },
    {
      "cell_type": "markdown",
      "metadata": {
        "id": "HljH_ENLEdHa"
      },
      "source": [
        "Load the data."
      ]
    },
    {
      "cell_type": "code",
      "execution_count": 7,
      "metadata": {
        "id": "OHlHs9Wj_PUM",
        "outputId": "93c709e4-3e3e-48e3-dd7c-61557b7b0581",
        "colab": {
          "base_uri": "https://localhost:8080/"
        }
      },
      "outputs": [
        {
          "output_type": "stream",
          "name": "stdout",
          "text": [
            "Downloading data from https://storage.googleapis.com/tensorflow/tf-keras-datasets/train-labels-idx1-ubyte.gz\n",
            "32768/29515 [=================================] - 0s 0us/step\n",
            "40960/29515 [=========================================] - 0s 0us/step\n",
            "Downloading data from https://storage.googleapis.com/tensorflow/tf-keras-datasets/train-images-idx3-ubyte.gz\n",
            "26427392/26421880 [==============================] - 0s 0us/step\n",
            "26435584/26421880 [==============================] - 0s 0us/step\n",
            "Downloading data from https://storage.googleapis.com/tensorflow/tf-keras-datasets/t10k-labels-idx1-ubyte.gz\n",
            "16384/5148 [===============================================================================================] - 0s 0us/step\n",
            "Downloading data from https://storage.googleapis.com/tensorflow/tf-keras-datasets/t10k-images-idx3-ubyte.gz\n",
            "4423680/4422102 [==============================] - 0s 0us/step\n",
            "4431872/4422102 [==============================] - 0s 0us/step\n"
          ]
        }
      ],
      "source": [
        "(img_train, label_train), (img_test, label_test) = keras.datasets.fashion_mnist.load_data()"
      ]
    },
    {
      "cell_type": "code",
      "execution_count": 8,
      "metadata": {
        "id": "bLVhXs3xrUD0"
      },
      "outputs": [],
      "source": [
        "# Normalize pixel values between 0 and 1\n",
        "img_train = img_train.astype('float32') / 255.0\n",
        "img_test = img_test.astype('float32') / 255.0"
      ]
    },
    {
      "cell_type": "code",
      "source": [
        "img_train"
      ],
      "metadata": {
        "id": "ysg12bHdoJKj",
        "outputId": "12e05761-659b-444b-ed13-275a06d38a4a",
        "colab": {
          "base_uri": "https://localhost:8080/"
        }
      },
      "execution_count": 9,
      "outputs": [
        {
          "output_type": "execute_result",
          "data": {
            "text/plain": [
              "array([[[0., 0., 0., ..., 0., 0., 0.],\n",
              "        [0., 0., 0., ..., 0., 0., 0.],\n",
              "        [0., 0., 0., ..., 0., 0., 0.],\n",
              "        ...,\n",
              "        [0., 0., 0., ..., 0., 0., 0.],\n",
              "        [0., 0., 0., ..., 0., 0., 0.],\n",
              "        [0., 0., 0., ..., 0., 0., 0.]],\n",
              "\n",
              "       [[0., 0., 0., ..., 0., 0., 0.],\n",
              "        [0., 0., 0., ..., 0., 0., 0.],\n",
              "        [0., 0., 0., ..., 0., 0., 0.],\n",
              "        ...,\n",
              "        [0., 0., 0., ..., 0., 0., 0.],\n",
              "        [0., 0., 0., ..., 0., 0., 0.],\n",
              "        [0., 0., 0., ..., 0., 0., 0.]],\n",
              "\n",
              "       [[0., 0., 0., ..., 0., 0., 0.],\n",
              "        [0., 0., 0., ..., 0., 0., 0.],\n",
              "        [0., 0., 0., ..., 0., 0., 0.],\n",
              "        ...,\n",
              "        [0., 0., 0., ..., 0., 0., 0.],\n",
              "        [0., 0., 0., ..., 0., 0., 0.],\n",
              "        [0., 0., 0., ..., 0., 0., 0.]],\n",
              "\n",
              "       ...,\n",
              "\n",
              "       [[0., 0., 0., ..., 0., 0., 0.],\n",
              "        [0., 0., 0., ..., 0., 0., 0.],\n",
              "        [0., 0., 0., ..., 0., 0., 0.],\n",
              "        ...,\n",
              "        [0., 0., 0., ..., 0., 0., 0.],\n",
              "        [0., 0., 0., ..., 0., 0., 0.],\n",
              "        [0., 0., 0., ..., 0., 0., 0.]],\n",
              "\n",
              "       [[0., 0., 0., ..., 0., 0., 0.],\n",
              "        [0., 0., 0., ..., 0., 0., 0.],\n",
              "        [0., 0., 0., ..., 0., 0., 0.],\n",
              "        ...,\n",
              "        [0., 0., 0., ..., 0., 0., 0.],\n",
              "        [0., 0., 0., ..., 0., 0., 0.],\n",
              "        [0., 0., 0., ..., 0., 0., 0.]],\n",
              "\n",
              "       [[0., 0., 0., ..., 0., 0., 0.],\n",
              "        [0., 0., 0., ..., 0., 0., 0.],\n",
              "        [0., 0., 0., ..., 0., 0., 0.],\n",
              "        ...,\n",
              "        [0., 0., 0., ..., 0., 0., 0.],\n",
              "        [0., 0., 0., ..., 0., 0., 0.],\n",
              "        [0., 0., 0., ..., 0., 0., 0.]]], dtype=float32)"
            ]
          },
          "metadata": {},
          "execution_count": 9
        }
      ]
    },
    {
      "cell_type": "code",
      "source": [
        "label_train"
      ],
      "metadata": {
        "id": "9-KUjp48oLmF",
        "outputId": "0177db2c-6909-4459-8829-aee847cce419",
        "colab": {
          "base_uri": "https://localhost:8080/"
        }
      },
      "execution_count": 10,
      "outputs": [
        {
          "output_type": "execute_result",
          "data": {
            "text/plain": [
              "array([9, 0, 0, ..., 3, 0, 5], dtype=uint8)"
            ]
          },
          "metadata": {},
          "execution_count": 10
        }
      ]
    },
    {
      "cell_type": "code",
      "source": [
        "import matplotlib.pyplot as plt\n",
        "plt.imshow(img_train[0],cmap='binary')\n",
        "plt.show()"
      ],
      "metadata": {
        "id": "wWYPs0IMpnvA",
        "outputId": "512b0be0-be6d-4f17-a7ba-b541b1497ae3",
        "colab": {
          "base_uri": "https://localhost:8080/",
          "height": 265
        }
      },
      "execution_count": 11,
      "outputs": [
        {
          "output_type": "display_data",
          "data": {
            "text/plain": [
              "<Figure size 432x288 with 1 Axes>"
            ],
            "image/png": "[encoded data removed]"
          },
          "metadata": {
            "needs_background": "light"
          }
        }
      ]
    },
    {
      "cell_type": "markdown",
      "metadata": {
        "id": "K5YEL2H2Ax3e"
      },
      "source": [
        "## Define the model\n",
        "\n",
        "When you build a model for hypertuning, you also define the hyperparameter search space in addition to the model architecture. The model you set up for hypertuning is called a *hypermodel*.\n",
        "\n",
        "You can define a hypermodel through two approaches:\n",
        "\n",
        "* By using a model builder function\n",
        "* By subclassing the `HyperModel` class of the Keras Tuner API\n",
        "\n",
        "You can also use two pre-defined [HyperModel](https://keras.io/api/keras_tuner/hypermodels/) classes - [HyperXception](https://keras.io/api/keras_tuner/hypermodels/hyper_xception/) and [HyperResNet](https://keras.io/api/keras_tuner/hypermodels/hyper_resnet/) for computer vision applications.\n",
        "\n",
        "In this tutorial, you use a model builder function to define the image classification model. The model builder function returns a compiled model and uses hyperparameters you define inline to hypertune the model."
      ]
    },
    {
      "cell_type": "code",
      "execution_count": 12,
      "metadata": {
        "id": "ZQKodC-jtsva"
      },
      "outputs": [],
      "source": [
        "def model_builder(hp):\n",
        "  model = keras.Sequential()\n",
        "  #input layer\n",
        "  model.add(keras.layers.Flatten(input_shape=(28, 28)))\n",
        "\n",
        "  # Tune the number of units in the first Dense layer\n",
        "  # Choose an optimal value between 32-512\n",
        "  hp_units = hp.Int('units', min_value=32, max_value=512, step=32)\n",
        "  model.add(keras.layers.Dense(units=hp_units, activation='relu'))\n",
        "  model.add(keras.layers.Dense(10))\n",
        "\n",
        "  # Tune the learning rate for the optimizer\n",
        "  # Choose an optimal value from 0.01, 0.001, or 0.0001\n",
        "  hp_learning_rate = hp.Choice('learning_rate', values=[1e-2, 1e-3, 1e-4])\n",
        "\n",
        "  model.compile(optimizer=keras.optimizers.Adam(learning_rate=hp_learning_rate),\n",
        "                loss=keras.losses.SparseCategoricalCrossentropy(from_logits=True),\n",
        "                metrics=['accuracy'])\n",
        "\n",
        "  return model"
      ]
    },
    {
      "cell_type": "markdown",
      "metadata": {
        "id": "0J1VYw4q3x0b"
      },
      "source": [
        "## Instantiate the tuner and perform hypertuning\n",
        "\n",
        "Instantiate the tuner to perform the hypertuning. The Keras Tuner has four tuners available - `RandomSearch`, `Hyperband`, `BayesianOptimization`, and `Sklearn`. In this tutorial, you use the [Hyperband](https://arxiv.org/pdf/1603.06560.pdf) tuner.\n",
        "\n",
        "To instantiate the Hyperband tuner, you must specify the hypermodel, the `objective` to optimize and the maximum number of epochs to train (`max_epochs`)."
      ]
    },
    {
      "cell_type": "code",
      "execution_count": 13,
      "metadata": {
        "id": "oichQFly6Y46"
      },
      "outputs": [],
      "source": [
        "tuner = kt.Hyperband(model_builder,\n",
        "                     objective='val_accuracy',\n",
        "                     max_epochs=10,\n",
        "                     factor=3,\n",
        "                     directory='my_dir',\n",
        "                     project_name='intro_to_kt')"
      ]
    },
    {
      "cell_type": "markdown",
      "metadata": {
        "id": "VaIhhdKf9VtI"
      },
      "source": [
        "The Hyperband tuning algorithm uses adaptive resource allocation and early-stopping to quickly converge on a high-performing model. This is done using a sports championship style bracket. The algorithm trains a large number of models for a few epochs and carries forward only the top-performing half of models to the next round. Hyperband determines the number of models to train in a bracket by computing 1 + log<sub>`factor`</sub>(`max_epochs`) and rounding it up to the nearest integer."
      ]
    },
    {
      "cell_type": "markdown",
      "metadata": {
        "id": "cwhBdXx0Ekj8"
      },
      "source": [
        "Create a callback to stop training early after reaching a certain value for the validation loss."
      ]
    },
    {
      "cell_type": "code",
      "execution_count": 14,
      "metadata": {
        "id": "WT9IkS9NEjLc"
      },
      "outputs": [],
      "source": [
        "stop_early = tf.keras.callbacks.EarlyStopping(monitor='val_loss', patience=5)"
      ]
    },
    {
      "cell_type": "markdown",
      "metadata": {
        "id": "UKghEo15Tduy"
      },
      "source": [
        "Run the hyperparameter search. The arguments for the search method are the same as those used for `tf.keras.model.fit` in addition to the callback above."
      ]
    },
    {
      "cell_type": "code",
      "execution_count": 15,
      "metadata": {
        "id": "dSBQcTHF9cKt",
        "outputId": "158405a7-7b44-40dc-a000-8d0e987ea7c6",
        "colab": {
          "base_uri": "https://localhost:8080/"
        }
      },
      "outputs": [
        {
          "output_type": "stream",
          "name": "stdout",
          "text": [
            "Trial 30 Complete [00h 00m 36s]\n",
            "val_accuracy: 0.8524166941642761\n",
            "\n",
            "Best val_accuracy So Far: 0.890999972820282\n",
            "Total elapsed time: 00h 09m 47s\n",
            "\n",
            "The hyperparameter search is complete. The optimal number of units in the first densely-connected\n",
            "layer is 448 and the optimal learning rate for the optimizer\n",
            "is 0.001.\n",
            "\n"
          ]
        }
      ],
      "source": [
        "tuner.search(img_train, label_train, epochs=50, validation_split=0.2, callbacks=[stop_early])\n",
        "\n",
        "# Get the optimal hyperparameters\n",
        "best_hps=tuner.get_best_hyperparameters(num_trials=1)[0]\n",
        "\n",
        "print(f\"\"\"\n",
        "The hyperparameter search is complete. The optimal number of units in the first densely-connected\n",
        "layer is {best_hps.get('units')} and the optimal learning rate for the optimizer\n",
        "is {best_hps.get('learning_rate')}.\n",
        "\"\"\")"
      ]
    },
    {
      "cell_type": "markdown",
      "metadata": {
        "id": "Lak_ylf88xBv"
      },
      "source": [
        "## Train the model\n",
        "\n",
        "Find the optimal number of epochs to train the model with the hyperparameters obtained from the search."
      ]
    },
    {
      "cell_type": "code",
      "execution_count": 16,
      "metadata": {
        "id": "McO82AXOuxXh",
        "outputId": "aa44f2c8-6704-4c0c-b07c-e4f550af779b",
        "colab": {
          "base_uri": "https://localhost:8080/"
        }
      },
      "outputs": [
        {
          "output_type": "stream",
          "name": "stdout",
          "text": [
            "Epoch 1/50\n",
            "1500/1500 [==============================] - 10s 3ms/step - loss: 0.4880 - accuracy: 0.8276 - val_loss: 0.4149 - val_accuracy: 0.8473\n",
            "Epoch 2/50\n",
            "1500/1500 [==============================] - 4s 2ms/step - loss: 0.3697 - accuracy: 0.8668 - val_loss: 0.4242 - val_accuracy: 0.8445\n",
            "Epoch 3/50\n",
            "1500/1500 [==============================] - 4s 3ms/step - loss: 0.3293 - accuracy: 0.8788 - val_loss: 0.3526 - val_accuracy: 0.8750\n",
            "Epoch 4/50\n",
            "1500/1500 [==============================] - 4s 3ms/step - loss: 0.3051 - accuracy: 0.8867 - val_loss: 0.3302 - val_accuracy: 0.8780\n",
            "Epoch 5/50\n",
            "1500/1500 [==============================] - 4s 2ms/step - loss: 0.2842 - accuracy: 0.8939 - val_loss: 0.3407 - val_accuracy: 0.8776\n",
            "Epoch 6/50\n",
            "1500/1500 [==============================] - 4s 2ms/step - loss: 0.2684 - accuracy: 0.8989 - val_loss: 0.3270 - val_accuracy: 0.8822\n",
            "Epoch 7/50\n",
            "1500/1500 [==============================] - 4s 2ms/step - loss: 0.2565 - accuracy: 0.9034 - val_loss: 0.3259 - val_accuracy: 0.8857\n",
            "Epoch 8/50\n",
            "1500/1500 [==============================] - 4s 2ms/step - loss: 0.2465 - accuracy: 0.9066 - val_loss: 0.3307 - val_accuracy: 0.8852\n",
            "Epoch 9/50\n",
            "1500/1500 [==============================] - 4s 3ms/step - loss: 0.2334 - accuracy: 0.9121 - val_loss: 0.3562 - val_accuracy: 0.8787\n",
            "Epoch 10/50\n",
            "1500/1500 [==============================] - 4s 2ms/step - loss: 0.2235 - accuracy: 0.9153 - val_loss: 0.3240 - val_accuracy: 0.8886\n",
            "Epoch 11/50\n",
            "1500/1500 [==============================] - 4s 2ms/step - loss: 0.2150 - accuracy: 0.9197 - val_loss: 0.3564 - val_accuracy: 0.8733\n",
            "Epoch 12/50\n",
            "1500/1500 [==============================] - 4s 2ms/step - loss: 0.2093 - accuracy: 0.9211 - val_loss: 0.3349 - val_accuracy: 0.8873\n",
            "Epoch 13/50\n",
            "1500/1500 [==============================] - 4s 3ms/step - loss: 0.1992 - accuracy: 0.9250 - val_loss: 0.3293 - val_accuracy: 0.8922\n",
            "Epoch 14/50\n",
            "1500/1500 [==============================] - 4s 3ms/step - loss: 0.1906 - accuracy: 0.9277 - val_loss: 0.3272 - val_accuracy: 0.8894\n",
            "Epoch 15/50\n",
            "1500/1500 [==============================] - 4s 2ms/step - loss: 0.1856 - accuracy: 0.9304 - val_loss: 0.3341 - val_accuracy: 0.8894\n",
            "Epoch 16/50\n",
            "1500/1500 [==============================] - 4s 2ms/step - loss: 0.1782 - accuracy: 0.9320 - val_loss: 0.3299 - val_accuracy: 0.8941\n",
            "Epoch 17/50\n",
            "1500/1500 [==============================] - 4s 3ms/step - loss: 0.1721 - accuracy: 0.9342 - val_loss: 0.3240 - val_accuracy: 0.8976\n",
            "Epoch 18/50\n",
            "1500/1500 [==============================] - 4s 3ms/step - loss: 0.1675 - accuracy: 0.9366 - val_loss: 0.3922 - val_accuracy: 0.8810\n",
            "Epoch 19/50\n",
            "1500/1500 [==============================] - 4s 3ms/step - loss: 0.1630 - accuracy: 0.9382 - val_loss: 0.3367 - val_accuracy: 0.8937\n",
            "Epoch 20/50\n",
            "1500/1500 [==============================] - 4s 3ms/step - loss: 0.1557 - accuracy: 0.9410 - val_loss: 0.3464 - val_accuracy: 0.8940\n",
            "Epoch 21/50\n",
            "1500/1500 [==============================] - 4s 3ms/step - loss: 0.1519 - accuracy: 0.9424 - val_loss: 0.3513 - val_accuracy: 0.8942\n",
            "Epoch 22/50\n",
            "1500/1500 [==============================] - 4s 2ms/step - loss: 0.1474 - accuracy: 0.9438 - val_loss: 0.3567 - val_accuracy: 0.8929\n",
            "Epoch 23/50\n",
            "1500/1500 [==============================] - 4s 3ms/step - loss: 0.1433 - accuracy: 0.9472 - val_loss: 0.3566 - val_accuracy: 0.8995\n",
            "Epoch 24/50\n",
            "1500/1500 [==============================] - 4s 2ms/step - loss: 0.1384 - accuracy: 0.9478 - val_loss: 0.3564 - val_accuracy: 0.8937\n",
            "Epoch 25/50\n",
            "1500/1500 [==============================] - 4s 2ms/step - loss: 0.1351 - accuracy: 0.9484 - val_loss: 0.3627 - val_accuracy: 0.8960\n",
            "Epoch 26/50\n",
            "1500/1500 [==============================] - 4s 3ms/step - loss: 0.1305 - accuracy: 0.9519 - val_loss: 0.4050 - val_accuracy: 0.8897\n",
            "Epoch 27/50\n",
            "1500/1500 [==============================] - 4s 2ms/step - loss: 0.1275 - accuracy: 0.9521 - val_loss: 0.3930 - val_accuracy: 0.8930\n",
            "Epoch 28/50\n",
            "1500/1500 [==============================] - 4s 2ms/step - loss: 0.1250 - accuracy: 0.9530 - val_loss: 0.3958 - val_accuracy: 0.8937\n",
            "Epoch 29/50\n",
            "1500/1500 [==============================] - 4s 3ms/step - loss: 0.1190 - accuracy: 0.9551 - val_loss: 0.3954 - val_accuracy: 0.8979\n",
            "Epoch 30/50\n",
            "1500/1500 [==============================] - 4s 2ms/step - loss: 0.1175 - accuracy: 0.9560 - val_loss: 0.4293 - val_accuracy: 0.8920\n",
            "Epoch 31/50\n",
            "1500/1500 [==============================] - 4s 2ms/step - loss: 0.1136 - accuracy: 0.9569 - val_loss: 0.4029 - val_accuracy: 0.8924\n",
            "Epoch 32/50\n",
            "1500/1500 [==============================] - 4s 2ms/step - loss: 0.1122 - accuracy: 0.9571 - val_loss: 0.3945 - val_accuracy: 0.8952\n",
            "Epoch 33/50\n",
            "1500/1500 [==============================] - 4s 3ms/step - loss: 0.1104 - accuracy: 0.9584 - val_loss: 0.4384 - val_accuracy: 0.8936\n",
            "Epoch 34/50\n",
            "1500/1500 [==============================] - 4s 2ms/step - loss: 0.1052 - accuracy: 0.9606 - val_loss: 0.4395 - val_accuracy: 0.8913\n",
            "Epoch 35/50\n",
            "1500/1500 [==============================] - 4s 3ms/step - loss: 0.1039 - accuracy: 0.9613 - val_loss: 0.4477 - val_accuracy: 0.8938\n",
            "Epoch 36/50\n",
            "1500/1500 [==============================] - 4s 2ms/step - loss: 0.0984 - accuracy: 0.9628 - val_loss: 0.4328 - val_accuracy: 0.8936\n",
            "Epoch 37/50\n",
            "1500/1500 [==============================] - 4s 2ms/step - loss: 0.0973 - accuracy: 0.9635 - val_loss: 0.4490 - val_accuracy: 0.8937\n",
            "Epoch 38/50\n",
            "1500/1500 [==============================] - 4s 2ms/step - loss: 0.0981 - accuracy: 0.9641 - val_loss: 0.4683 - val_accuracy: 0.8956\n",
            "Epoch 39/50\n",
            "1500/1500 [==============================] - 4s 2ms/step - loss: 0.0942 - accuracy: 0.9648 - val_loss: 0.4829 - val_accuracy: 0.8868\n",
            "Epoch 40/50\n",
            "1500/1500 [==============================] - 4s 3ms/step - loss: 0.0941 - accuracy: 0.9651 - val_loss: 0.4619 - val_accuracy: 0.8908\n",
            "Epoch 41/50\n",
            "1500/1500 [==============================] - 4s 2ms/step - loss: 0.0899 - accuracy: 0.9656 - val_loss: 0.4843 - val_accuracy: 0.8954\n",
            "Epoch 42/50\n",
            "1500/1500 [==============================] - 4s 2ms/step - loss: 0.0890 - accuracy: 0.9666 - val_loss: 0.4723 - val_accuracy: 0.8975\n",
            "Epoch 43/50\n",
            "1500/1500 [==============================] - 4s 3ms/step - loss: 0.0858 - accuracy: 0.9677 - val_loss: 0.5079 - val_accuracy: 0.8917\n",
            "Epoch 44/50\n",
            "1500/1500 [==============================] - 4s 2ms/step - loss: 0.0808 - accuracy: 0.9696 - val_loss: 0.5093 - val_accuracy: 0.8919\n",
            "Epoch 45/50\n",
            "1500/1500 [==============================] - 4s 3ms/step - loss: 0.0841 - accuracy: 0.9686 - val_loss: 0.4819 - val_accuracy: 0.8947\n",
            "Epoch 46/50\n",
            "1500/1500 [==============================] - 4s 2ms/step - loss: 0.0812 - accuracy: 0.9696 - val_loss: 0.4970 - val_accuracy: 0.8959\n",
            "Epoch 47/50\n",
            "1500/1500 [==============================] - 4s 2ms/step - loss: 0.0824 - accuracy: 0.9694 - val_loss: 0.4958 - val_accuracy: 0.8932\n",
            "Epoch 48/50\n",
            "1500/1500 [==============================] - 4s 3ms/step - loss: 0.0766 - accuracy: 0.9718 - val_loss: 0.5084 - val_accuracy: 0.8960\n",
            "Epoch 49/50\n",
            "1500/1500 [==============================] - 4s 2ms/step - loss: 0.0770 - accuracy: 0.9714 - val_loss: 0.5254 - val_accuracy: 0.8923\n",
            "Epoch 50/50\n",
            "1500/1500 [==============================] - 4s 3ms/step - loss: 0.0730 - accuracy: 0.9724 - val_loss: 0.5475 - val_accuracy: 0.8933\n",
            "Best epoch: 23\n"
          ]
        }
      ],
      "source": [
        "# Build the model with the optimal hyperparameters and train it on the data for 50 epochs\n",
        "model = tuner.hypermodel.build(best_hps)\n",
        "history = model.fit(img_train, label_train, epochs=50, validation_split=0.2)\n",
        "\n",
        "val_acc_per_epoch = history.history['val_accuracy']\n",
        "best_epoch = val_acc_per_epoch.index(max(val_acc_per_epoch)) + 1\n",
        "print('Best epoch: %d' % (best_epoch,))"
      ]
    },
    {
      "cell_type": "markdown",
      "metadata": {
        "id": "uOTSirSTI3Gp"
      },
      "source": [
        "Re-instantiate the hypermodel and train it with the optimal number of epochs from above."
      ]
    },
    {
      "cell_type": "code",
      "execution_count": 17,
      "metadata": {
        "id": "NoiPUEHmMhCe",
        "outputId": "12b91808-60ac-47d4-aecc-4e022d3b8e34",
        "colab": {
          "base_uri": "https://localhost:8080/"
        }
      },
      "outputs": [
        {
          "output_type": "stream",
          "name": "stdout",
          "text": [
            "Epoch 1/23\n",
            "1500/1500 [==============================] - 4s 3ms/step - loss: 0.4947 - accuracy: 0.8246 - val_loss: 0.3949 - val_accuracy: 0.8584\n",
            "Epoch 2/23\n",
            "1500/1500 [==============================] - 4s 2ms/step - loss: 0.3729 - accuracy: 0.8641 - val_loss: 0.3533 - val_accuracy: 0.8714\n",
            "Epoch 3/23\n",
            "1500/1500 [==============================] - 4s 2ms/step - loss: 0.3317 - accuracy: 0.8777 - val_loss: 0.3460 - val_accuracy: 0.8735\n",
            "Epoch 4/23\n",
            "1500/1500 [==============================] - 4s 2ms/step - loss: 0.3056 - accuracy: 0.8865 - val_loss: 0.3563 - val_accuracy: 0.8698\n",
            "Epoch 5/23\n",
            "1500/1500 [==============================] - 4s 2ms/step - loss: 0.2843 - accuracy: 0.8951 - val_loss: 0.3410 - val_accuracy: 0.8770\n",
            "Epoch 6/23\n",
            "1500/1500 [==============================] - 4s 2ms/step - loss: 0.2727 - accuracy: 0.8980 - val_loss: 0.3287 - val_accuracy: 0.8817\n",
            "Epoch 7/23\n",
            "1500/1500 [==============================] - 4s 3ms/step - loss: 0.2569 - accuracy: 0.9040 - val_loss: 0.3351 - val_accuracy: 0.8814\n",
            "Epoch 8/23\n",
            "1500/1500 [==============================] - 4s 2ms/step - loss: 0.2480 - accuracy: 0.9072 - val_loss: 0.3253 - val_accuracy: 0.8877\n",
            "Epoch 9/23\n",
            "1500/1500 [==============================] - 4s 2ms/step - loss: 0.2336 - accuracy: 0.9121 - val_loss: 0.3191 - val_accuracy: 0.8906\n",
            "Epoch 10/23\n",
            "1500/1500 [==============================] - 4s 2ms/step - loss: 0.2249 - accuracy: 0.9156 - val_loss: 0.3251 - val_accuracy: 0.8876\n",
            "Epoch 11/23\n",
            "1500/1500 [==============================] - 4s 2ms/step - loss: 0.2165 - accuracy: 0.9193 - val_loss: 0.3241 - val_accuracy: 0.8896\n",
            "Epoch 12/23\n",
            "1500/1500 [==============================] - 4s 3ms/step - loss: 0.2085 - accuracy: 0.9218 - val_loss: 0.3316 - val_accuracy: 0.8898\n",
            "Epoch 13/23\n",
            "1500/1500 [==============================] - 4s 2ms/step - loss: 0.1993 - accuracy: 0.9259 - val_loss: 0.3158 - val_accuracy: 0.8942\n",
            "Epoch 14/23\n",
            "1500/1500 [==============================] - 4s 2ms/step - loss: 0.1938 - accuracy: 0.9264 - val_loss: 0.3317 - val_accuracy: 0.8920\n",
            "Epoch 15/23\n",
            "1500/1500 [==============================] - 4s 2ms/step - loss: 0.1870 - accuracy: 0.9298 - val_loss: 0.3571 - val_accuracy: 0.8818\n",
            "Epoch 16/23\n",
            "1500/1500 [==============================] - 4s 2ms/step - loss: 0.1806 - accuracy: 0.9317 - val_loss: 0.3372 - val_accuracy: 0.8910\n",
            "Epoch 17/23\n",
            "1500/1500 [==============================] - 4s 2ms/step - loss: 0.1757 - accuracy: 0.9325 - val_loss: 0.3214 - val_accuracy: 0.8953\n",
            "Epoch 18/23\n",
            "1500/1500 [==============================] - 4s 2ms/step - loss: 0.1678 - accuracy: 0.9372 - val_loss: 0.3443 - val_accuracy: 0.8961\n",
            "Epoch 19/23\n",
            "1500/1500 [==============================] - 4s 2ms/step - loss: 0.1646 - accuracy: 0.9376 - val_loss: 0.3607 - val_accuracy: 0.8888\n",
            "Epoch 20/23\n",
            "1500/1500 [==============================] - 4s 2ms/step - loss: 0.1589 - accuracy: 0.9405 - val_loss: 0.3548 - val_accuracy: 0.8921\n",
            "Epoch 21/23\n",
            "1500/1500 [==============================] - 4s 2ms/step - loss: 0.1547 - accuracy: 0.9411 - val_loss: 0.3614 - val_accuracy: 0.8910\n",
            "Epoch 22/23\n",
            "1500/1500 [==============================] - 4s 2ms/step - loss: 0.1464 - accuracy: 0.9452 - val_loss: 0.3780 - val_accuracy: 0.8858\n",
            "Epoch 23/23\n",
            "1500/1500 [==============================] - 4s 2ms/step - loss: 0.1438 - accuracy: 0.9453 - val_loss: 0.3551 - val_accuracy: 0.8962\n"
          ]
        },
        {
          "output_type": "execute_result",
          "data": {
            "text/plain": [
              "<keras.callbacks.History at 0x7fc1f21a3a10>"
            ]
          },
          "metadata": {},
          "execution_count": 17
        }
      ],
      "source": [
        "hypermodel = tuner.hypermodel.build(best_hps)\n",
        "\n",
        "# Retrain the model\n",
        "hypermodel.fit(img_train, label_train, epochs=best_epoch, validation_split=0.2)"
      ]
    },
    {
      "cell_type": "markdown",
      "metadata": {
        "id": "MqU5ZVAaag2v"
      },
      "source": [
        "To finish this tutorial, evaluate the hypermodel on the test data."
      ]
    },
    {
      "cell_type": "code",
      "execution_count": 18,
      "metadata": {
        "id": "9E0BTp9Ealjb",
        "outputId": "d1a24bf7-4ebd-4a29-ed3e-906dc4d214b2",
        "colab": {
          "base_uri": "https://localhost:8080/"
        }
      },
      "outputs": [
        {
          "output_type": "stream",
          "name": "stdout",
          "text": [
            "313/313 [==============================] - 1s 2ms/step - loss: 0.3923 - accuracy: 0.8897\n",
            "[test loss, test accuracy]: [0.39226531982421875, 0.8896999955177307]\n"
          ]
        }
      ],
      "source": [
        "eval_result = hypermodel.evaluate(img_test, label_test)\n",
        "print(\"[test loss, test accuracy]:\", eval_result)"
      ]
    },
    {
      "cell_type": "markdown",
      "metadata": {
        "id": "EQRpPHZsz-eC"
      },
      "source": [
        "The `my_dir/intro_to_kt` directory contains detailed logs and checkpoints for every trial (model configuration) run during the hyperparameter search. If you re-run the hyperparameter search, the Keras Tuner uses the existing state from these logs to resume the search. To disable this behavior, pass an additional `overwrite=True` argument while instantiating the tuner."
      ]
    },
    {
      "cell_type": "markdown",
      "metadata": {
        "id": "sKwLOzKpFGAj"
      },
      "source": [
        "## Summary\n",
        "\n",
        "In this tutorial, you learned how to use the Keras Tuner to tune hyperparameters for a model. To learn more about the Keras Tuner, check out these additional resources:\n",
        "\n",
        "* [Keras Tuner on the TensorFlow blog](https://blog.tensorflow.org/2020/01/hyperparameter-tuning-with-keras-tuner.html)\n",
        "* [Keras Tuner website](https://keras-team.github.io/keras-tuner/)\n",
        "\n",
        "Also check out the [HParams Dashboard](https://www.tensorflow.org/tensorboard/hyperparameter_tuning_with_hparams) in TensorBoard to interactively tune your model hyperparameters."
      ]
    },
    {
      "cell_type": "code",
      "source": [
        "_, train_acc = hypermodel.evaluate(img_train, label_train, verbose=0)\n",
        "_, test_acc = hypermodel.evaluate(img_test, label_test, verbose=0)\n",
        "print('Train: %.3f, Test: %.3f' % (train_acc, test_acc))"
      ],
      "metadata": {
        "id": "qhKy0xL4dMPm",
        "outputId": "ca99d174-c5f4-47a2-d1f4-9c21b69a6aae",
        "colab": {
          "base_uri": "https://localhost:8080/"
        }
      },
      "execution_count": 19,
      "outputs": [
        {
          "output_type": "stream",
          "name": "stdout",
          "text": [
            "Train: 0.943, Test: 0.890\n"
          ]
        }
      ]
    }
  ],
  "metadata": {
    "accelerator": "GPU",
    "colab": {
      "collapsed_sections": [
        "Tce3stUlHN0L"
      ],
      "name": "keras_tuner.ipynb",
      "provenance": []
    },
    "kernelspec": {
      "display_name": "Python 3",
      "name": "python3"
    },
    "gpuClass": "standard"
  },
  "nbformat": 4,
  "nbformat_minor": 0
}